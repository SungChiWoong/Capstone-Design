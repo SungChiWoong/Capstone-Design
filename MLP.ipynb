{
 "cells": [
  {
   "cell_type": "code",
   "execution_count": null,
   "id": "8c7a0473",
   "metadata": {},
   "outputs": [],
   "source": [
    "# Barking, Growling, Howling, Whinning, None\n",
    "# UpHead, DownHead\n",
    "# UpEar, DownEar\n",
    "# Open, Close, Teeth\n",
    "# Sit, Stand, Lay, Front, Back\n",
    "# UpTail, DownTail, MidTail"
   ]
  },
  {
   "cell_type": "code",
   "execution_count": 9,
   "id": "20236141",
   "metadata": {},
   "outputs": [],
   "source": [
    "import os\n",
    "os.environ[\"CUDA_VISIBLE_DEVICES\"]=\"-1\""
   ]
  },
  {
   "cell_type": "code",
   "execution_count": 10,
   "id": "669e0f2f",
   "metadata": {
    "scrolled": true
   },
   "outputs": [],
   "source": [
    "import csv\n",
    "import pandas as pd\n",
    "\n",
    "f = open('emotion.csv', 'r')\n",
    "data = csv.reader(f)\n",
    "header = next(data)\n",
    "\n",
    "features = []\n",
    "\n",
    "for row in data:\n",
    "    feat = [0, 0, 0, 0, 0, 0]\n",
    "    # 음성\n",
    "    if row[0] == 'Barking':\n",
    "        feat[0] = 1\n",
    "    elif row[0] == 'Growling':\n",
    "        feat[0] = 2\n",
    "    elif row[0] == 'Howling':\n",
    "        feat[0] = 3\n",
    "    elif row[0] == 'Whinning':\n",
    "        feat[0] = 4\n",
    "    \n",
    "    # 머리\n",
    "    if row[1] == 'UpHead':\n",
    "        feat[1] = 1\n",
    "    elif row[1] == 'DownHead':\n",
    "        feat[1] = 2\n",
    "        \n",
    "    # 귀\n",
    "    if row[2] == 'UpEar':\n",
    "        feat[2] = 1\n",
    "    elif row[2] == 'DownEar':\n",
    "        feat[2] = 2\n",
    "        \n",
    "    # 입\n",
    "    if row[3] == 'Open':\n",
    "        feat[3] = 1\n",
    "    elif row[3] == 'Close':\n",
    "        feat[3] = 2\n",
    "    elif row[3] == 'Teeth':\n",
    "        feat[3] = 3\n",
    "    \n",
    "    # 자세\n",
    "    if row[4] == 'Sit':\n",
    "        feat[4] = 1\n",
    "    elif row[4] == 'Stand':\n",
    "        feat[4] = 2\n",
    "    elif row[4] == 'Lay':\n",
    "        feat[4] = 3\n",
    "    elif row[4] == 'Front':\n",
    "        feat[4] = 4\n",
    "    elif row[4] == 'Back':\n",
    "        feat[4] = 5\n",
    "        \n",
    "    # 꼬리\n",
    "    if row[5] == 'UpTail':\n",
    "        feat[5] = 1\n",
    "    elif row[5] == 'DownTail':\n",
    "        feat[5] = 2\n",
    "    elif row[5] == 'MidTail':\n",
    "        feat[5] = 3\n",
    "        \n",
    "    class_label = row[6]\n",
    "        \n",
    "    features.append([feat, class_label])\n",
    "featuresdf = pd.DataFrame(features, columns=['feature','class_label'])"
   ]
  },
  {
   "cell_type": "code",
   "execution_count": 11,
   "id": "43e2b212",
   "metadata": {},
   "outputs": [
    {
     "data": {
      "text/html": [
       "<div>\n",
       "<style scoped>\n",
       "    .dataframe tbody tr th:only-of-type {\n",
       "        vertical-align: middle;\n",
       "    }\n",
       "\n",
       "    .dataframe tbody tr th {\n",
       "        vertical-align: top;\n",
       "    }\n",
       "\n",
       "    .dataframe thead th {\n",
       "        text-align: right;\n",
       "    }\n",
       "</style>\n",
       "<table border=\"1\" class=\"dataframe\">\n",
       "  <thead>\n",
       "    <tr style=\"text-align: right;\">\n",
       "      <th></th>\n",
       "      <th>feature</th>\n",
       "      <th>class_label</th>\n",
       "    </tr>\n",
       "  </thead>\n",
       "  <tbody>\n",
       "    <tr>\n",
       "      <th>0</th>\n",
       "      <td>[1, 1, 1, 1, 1, 1]</td>\n",
       "      <td>관심</td>\n",
       "    </tr>\n",
       "    <tr>\n",
       "      <th>1</th>\n",
       "      <td>[1, 1, 1, 1, 1, 2]</td>\n",
       "      <td>경계</td>\n",
       "    </tr>\n",
       "    <tr>\n",
       "      <th>2</th>\n",
       "      <td>[1, 1, 1, 1, 1, 3]</td>\n",
       "      <td>관심</td>\n",
       "    </tr>\n",
       "    <tr>\n",
       "      <th>3</th>\n",
       "      <td>[1, 1, 1, 1, 2, 1]</td>\n",
       "      <td>관심</td>\n",
       "    </tr>\n",
       "    <tr>\n",
       "      <th>4</th>\n",
       "      <td>[1, 1, 1, 1, 2, 2]</td>\n",
       "      <td>경계</td>\n",
       "    </tr>\n",
       "    <tr>\n",
       "      <th>...</th>\n",
       "      <td>...</td>\n",
       "      <td>...</td>\n",
       "    </tr>\n",
       "    <tr>\n",
       "      <th>895</th>\n",
       "      <td>[0, 2, 2, 3, 4, 2]</td>\n",
       "      <td>슬픔</td>\n",
       "    </tr>\n",
       "    <tr>\n",
       "      <th>896</th>\n",
       "      <td>[0, 2, 2, 3, 4, 3]</td>\n",
       "      <td>슬픔</td>\n",
       "    </tr>\n",
       "    <tr>\n",
       "      <th>897</th>\n",
       "      <td>[0, 2, 2, 3, 5, 1]</td>\n",
       "      <td>공포</td>\n",
       "    </tr>\n",
       "    <tr>\n",
       "      <th>898</th>\n",
       "      <td>[0, 2, 2, 3, 5, 2]</td>\n",
       "      <td>공포</td>\n",
       "    </tr>\n",
       "    <tr>\n",
       "      <th>899</th>\n",
       "      <td>[0, 2, 2, 3, 5, 3]</td>\n",
       "      <td>공포</td>\n",
       "    </tr>\n",
       "  </tbody>\n",
       "</table>\n",
       "<p>900 rows × 2 columns</p>\n",
       "</div>"
      ],
      "text/plain": [
       "                feature class_label\n",
       "0    [1, 1, 1, 1, 1, 1]          관심\n",
       "1    [1, 1, 1, 1, 1, 2]          경계\n",
       "2    [1, 1, 1, 1, 1, 3]          관심\n",
       "3    [1, 1, 1, 1, 2, 1]          관심\n",
       "4    [1, 1, 1, 1, 2, 2]          경계\n",
       "..                  ...         ...\n",
       "895  [0, 2, 2, 3, 4, 2]          슬픔\n",
       "896  [0, 2, 2, 3, 4, 3]          슬픔\n",
       "897  [0, 2, 2, 3, 5, 1]          공포\n",
       "898  [0, 2, 2, 3, 5, 2]          공포\n",
       "899  [0, 2, 2, 3, 5, 3]          공포\n",
       "\n",
       "[900 rows x 2 columns]"
      ]
     },
     "execution_count": 11,
     "metadata": {},
     "output_type": "execute_result"
    }
   ],
   "source": [
    "featuresdf"
   ]
  },
  {
   "cell_type": "code",
   "execution_count": 12,
   "id": "2689ae17",
   "metadata": {},
   "outputs": [],
   "source": [
    "# class_label 값을 원-핫 인코딩 후 훈련 데이터와 검증 데이터 분리\n",
    "import numpy as np\n",
    "from tensorflow.keras.utils import to_categorical\n",
    "from sklearn.model_selection import train_test_split\n",
    "from sklearn.preprocessing import LabelEncoder\n",
    "\n",
    "X = np.array(featuresdf.feature.tolist())\n",
    "y = np.array(featuresdf.class_label.tolist())\n",
    "\n",
    "le = LabelEncoder()\n",
    "yy = to_categorical(le.fit_transform(y))\n",
    "\n",
    "x_train, x_test, y_train, y_test = train_test_split(X, yy, test_size=0.2, random_state = 42)"
   ]
  },
  {
   "cell_type": "code",
   "execution_count": 13,
   "id": "7e364a4f",
   "metadata": {},
   "outputs": [],
   "source": [
    "import tensorflow as tf\n",
    "\n",
    "n_columns = 6\n",
    "n_row = 1\n",
    "n_channels = 1\n",
    "n_classes = 9\n",
    "\n",
    "# input shape 조정\n",
    "# cpu를 사용해서 수행한다\n",
    "with tf.device('/cpu:0'):\n",
    "    x_train = tf.reshape(x_train, [-1, n_row, n_columns, n_channels])\n",
    "    x_test = tf.reshape(x_test, [-1, n_row, n_columns, n_channels])"
   ]
  },
  {
   "cell_type": "code",
   "execution_count": 14,
   "id": "26f85a5e",
   "metadata": {},
   "outputs": [
    {
     "name": "stdout",
     "output_type": "stream",
     "text": [
      "Model: \"sequential_1\"\n",
      "_________________________________________________________________\n",
      " Layer (type)                Output Shape              Param #   \n",
      "=================================================================\n",
      " dense_4 (Dense)             (None, 1, 256)            1792      \n",
      "                                                                 \n",
      " dense_5 (Dense)             (None, 1, 256)            65792     \n",
      "                                                                 \n",
      " dense_6 (Dense)             (None, 1, 128)            32896     \n",
      "                                                                 \n",
      " flatten_1 (Flatten)         (None, 128)               0         \n",
      "                                                                 \n",
      " dense_7 (Dense)             (None, 9)                 1161      \n",
      "                                                                 \n",
      "=================================================================\n",
      "Total params: 101,641\n",
      "Trainable params: 101,641\n",
      "Non-trainable params: 0\n",
      "_________________________________________________________________\n"
     ]
    }
   ],
   "source": [
    "from tensorflow.keras.models import Sequential\n",
    "from tensorflow.keras.layers import InputLayer\n",
    "from tensorflow.keras.layers import Dense, Dropout, Flatten\n",
    "\n",
    "MLP = Sequential()\n",
    "MLP.add(InputLayer(input_shape=(1, 6))) # input layer\n",
    "MLP.add(Dense(256, activation='relu')) # hidden layer 1\n",
    "MLP.add(Dense(256, activation='relu')) # hidden layer 2\n",
    "MLP.add(Dense(256, activation='relu'))\n",
    "MLP.add(Flatten())\n",
    "MLP.add(Dense(9, activation='softmax')) # output layer\n",
    "\n",
    "# summary\n",
    "MLP.summary()"
   ]
  },
  {
   "cell_type": "code",
   "execution_count": null,
   "id": "a2d5fc4a",
   "metadata": {
    "scrolled": true
   },
   "outputs": [
    {
     "name": "stdout",
     "output_type": "stream",
     "text": [
      "Epoch 1/100\n",
      "72/72 [==============================] - 1s 7ms/step - loss: 1.6747 - accuracy: 0.3931 - val_loss: 1.4276 - val_accuracy: 0.5056\n",
      "Epoch 2/100\n",
      "72/72 [==============================] - 0s 5ms/step - loss: 1.3924 - accuracy: 0.5000 - val_loss: 1.2387 - val_accuracy: 0.6444\n",
      "Epoch 3/100\n",
      "72/72 [==============================] - 0s 5ms/step - loss: 1.2162 - accuracy: 0.5556 - val_loss: 1.0659 - val_accuracy: 0.4944\n",
      "Epoch 4/100\n",
      "72/72 [==============================] - 0s 4ms/step - loss: 1.0853 - accuracy: 0.5944 - val_loss: 0.8921 - val_accuracy: 0.6889\n",
      "Epoch 5/100\n",
      "72/72 [==============================] - 0s 3ms/step - loss: 1.0172 - accuracy: 0.6111 - val_loss: 0.8446 - val_accuracy: 0.7000\n",
      "Epoch 6/100\n",
      "72/72 [==============================] - 0s 3ms/step - loss: 0.9182 - accuracy: 0.6597 - val_loss: 0.7989 - val_accuracy: 0.7167\n",
      "Epoch 7/100\n",
      "72/72 [==============================] - 0s 3ms/step - loss: 0.8452 - accuracy: 0.6819 - val_loss: 0.8003 - val_accuracy: 0.7500\n",
      "Epoch 8/100\n",
      "72/72 [==============================] - 0s 4ms/step - loss: 0.7606 - accuracy: 0.6917 - val_loss: 0.7676 - val_accuracy: 0.6833\n",
      "Epoch 9/100\n",
      "72/72 [==============================] - 0s 4ms/step - loss: 0.7167 - accuracy: 0.7069 - val_loss: 0.7138 - val_accuracy: 0.7278\n",
      "Epoch 10/100\n",
      "72/72 [==============================] - 0s 3ms/step - loss: 0.6434 - accuracy: 0.7542 - val_loss: 0.6247 - val_accuracy: 0.8167\n",
      "Epoch 11/100\n",
      "72/72 [==============================] - 0s 4ms/step - loss: 0.6204 - accuracy: 0.7583 - val_loss: 0.5448 - val_accuracy: 0.8056\n",
      "Epoch 12/100\n",
      "72/72 [==============================] - 0s 4ms/step - loss: 0.5495 - accuracy: 0.7889 - val_loss: 0.5036 - val_accuracy: 0.8167\n",
      "Epoch 13/100\n",
      "72/72 [==============================] - 0s 4ms/step - loss: 0.4860 - accuracy: 0.8194 - val_loss: 0.4902 - val_accuracy: 0.8167\n",
      "Epoch 14/100\n",
      "72/72 [==============================] - 0s 4ms/step - loss: 0.4875 - accuracy: 0.8083 - val_loss: 0.5794 - val_accuracy: 0.8111\n",
      "Epoch 15/100\n",
      "72/72 [==============================] - 0s 4ms/step - loss: 0.4691 - accuracy: 0.8278 - val_loss: 0.5397 - val_accuracy: 0.8056\n",
      "Epoch 16/100\n",
      "72/72 [==============================] - 0s 4ms/step - loss: 0.4091 - accuracy: 0.8361 - val_loss: 0.4582 - val_accuracy: 0.8389\n",
      "Epoch 17/100\n",
      "72/72 [==============================] - 0s 3ms/step - loss: 0.4199 - accuracy: 0.8486 - val_loss: 0.4181 - val_accuracy: 0.8500\n",
      "Epoch 18/100\n",
      "72/72 [==============================] - 0s 4ms/step - loss: 0.3554 - accuracy: 0.8639 - val_loss: 0.3879 - val_accuracy: 0.8333\n",
      "Epoch 19/100\n",
      "72/72 [==============================] - 0s 4ms/step - loss: 0.3605 - accuracy: 0.8597 - val_loss: 0.3306 - val_accuracy: 0.8833\n",
      "Epoch 20/100\n",
      "72/72 [==============================] - 0s 4ms/step - loss: 0.3457 - accuracy: 0.8500 - val_loss: 0.4829 - val_accuracy: 0.8222\n",
      "Epoch 21/100\n",
      "72/72 [==============================] - 0s 3ms/step - loss: 0.3440 - accuracy: 0.8597 - val_loss: 0.3285 - val_accuracy: 0.9000\n",
      "Epoch 22/100\n",
      "72/72 [==============================] - 0s 4ms/step - loss: 0.3111 - accuracy: 0.8806 - val_loss: 0.2913 - val_accuracy: 0.8833\n",
      "Epoch 23/100\n",
      "72/72 [==============================] - 0s 4ms/step - loss: 0.3028 - accuracy: 0.8806 - val_loss: 0.2770 - val_accuracy: 0.8778\n",
      "Epoch 24/100\n",
      "72/72 [==============================] - 0s 4ms/step - loss: 0.2814 - accuracy: 0.8861 - val_loss: 0.2704 - val_accuracy: 0.9111\n",
      "Epoch 25/100\n",
      "72/72 [==============================] - 0s 3ms/step - loss: 0.2648 - accuracy: 0.8833 - val_loss: 0.4066 - val_accuracy: 0.8167\n",
      "Epoch 26/100\n",
      "72/72 [==============================] - 0s 3ms/step - loss: 0.2753 - accuracy: 0.8986 - val_loss: 0.3074 - val_accuracy: 0.8667\n",
      "Epoch 27/100\n",
      "72/72 [==============================] - 0s 3ms/step - loss: 0.2780 - accuracy: 0.8819 - val_loss: 0.3185 - val_accuracy: 0.8722\n",
      "Epoch 28/100\n",
      "72/72 [==============================] - 0s 3ms/step - loss: 0.2378 - accuracy: 0.9083 - val_loss: 0.3406 - val_accuracy: 0.8667\n",
      "Epoch 29/100\n",
      "72/72 [==============================] - 0s 3ms/step - loss: 0.2810 - accuracy: 0.9028 - val_loss: 0.3491 - val_accuracy: 0.8389\n",
      "Epoch 30/100\n",
      "72/72 [==============================] - 0s 3ms/step - loss: 0.2214 - accuracy: 0.9028 - val_loss: 0.2623 - val_accuracy: 0.8778\n",
      "Epoch 31/100\n",
      "72/72 [==============================] - 0s 4ms/step - loss: 0.1974 - accuracy: 0.9250 - val_loss: 0.2076 - val_accuracy: 0.9278\n",
      "Epoch 32/100\n",
      "18/72 [======>.......................] - ETA: 0s - loss: 0.1784 - accuracy: 0.9389"
     ]
    }
   ],
   "source": [
    "MLP.compile(loss='categorical_crossentropy',\n",
    "            optimizer='adam',\n",
    "            metrics=['accuracy'])\n",
    "history = MLP.fit(x_train, y_train, epochs=100, batch_size=10, validation_data=(x_test, y_test))"
   ]
  },
  {
   "cell_type": "code",
   "execution_count": 8,
   "id": "204f096b",
   "metadata": {},
   "outputs": [
    {
     "data": {
      "image/png": "[encoded data removed]",
      "text/plain": [
       "<Figure size 432x288 with 1 Axes>"
      ]
     },
     "metadata": {
      "needs_background": "light"
     },
     "output_type": "display_data"
    }
   ],
   "source": [
    "import matplotlib.pyplot as plt\n",
    "\n",
    "plt.plot(history.history['loss'])\n",
    "plt.plot(history.history['val_loss'])\n",
    "plt.xlabel('Epoch')\n",
    "plt.ylabel('Loss')\n",
    "plt.legend(['Train', 'Test'], loc='upper left')\n",
    "plt.show()"
   ]
  },
  {
   "cell_type": "code",
   "execution_count": 23,
   "id": "d4551f4f",
   "metadata": {},
   "outputs": [
    {
     "name": "stdout",
     "output_type": "stream",
     "text": [
      "18/18 [==============================] - 0s 645us/step - loss: 0.0431 - accuracy: 0.9833\n"
     ]
    },
    {
     "data": {
      "text/plain": [
       "[0.043050505220890045, 0.9833333492279053]"
      ]
     },
     "execution_count": 23,
     "metadata": {},
     "output_type": "execute_result"
    }
   ],
   "source": [
    "result = MLP.evaluate(x_test, y_test, batch_size=10)\n",
    "result\n",
    "#test loss, test acc"
   ]
  },
  {
   "cell_type": "code",
   "execution_count": 10,
   "id": "aed5478d",
   "metadata": {},
   "outputs": [
    {
     "name": "stdout",
     "output_type": "stream",
     "text": [
      "1/1 [==============================] - 0s 81ms/step\n",
      "안정\n"
     ]
    }
   ],
   "source": [
    "classid = ['관심', '경계', '공포', '분리불안', '피로', '슬픔', '안정', '불안', '즐거움']\n",
    "\n",
    "test = [0, 1, 1, 1, 3, 0]\n",
    "test = np.array(test)\n",
    "test = test.reshape(-1, 1, 6, 1)\n",
    "prob = np.argmax(MLP.predict(test), axis=-1)\n",
    "print(str(classid[int(prob)]))"
   ]
  },
  {
   "cell_type": "code",
   "execution_count": null,
   "id": "4b6bf723",
   "metadata": {},
   "outputs": [],
   "source": []
  }
 ],
 "metadata": {
  "kernelspec": {
   "display_name": "Python 3 (ipykernel)",
   "language": "python",
   "name": "python3"
  },
  "language_info": {
   "codemirror_mode": {
    "name": "ipython",
    "version": 3
   },
   "file_extension": ".py",
   "mimetype": "text/x-python",
   "name": "python",
   "nbconvert_exporter": "python",
   "pygments_lexer": "ipython3",
   "version": "3.9.12"
  }
 },
 "nbformat": 4,
 "nbformat_minor": 5
}
