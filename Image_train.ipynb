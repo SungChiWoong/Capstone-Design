{
 "cells": [
  {
   "cell_type": "code",
   "execution_count": null,
   "id": "4385d89f",
   "metadata": {},
   "outputs": [],
   "source": [
    "pip install -U -r yolov5/requirements.txt\n",
    "\n",
    "import torch\n",
    "\n",
    "# 이미지 경로 list로 넣기\n",
    "train_img_list = glob('train/images/*.jpg')# + glob('./train/images/*.jpeg')\n",
    "valid_img_list = glob('valid/images/*.jpg')# + glob('./valid/images/*.jpeg')\n",
    "test_img_list = glob('test/images/*.jpg')# + glob('./valid/images/*.jpeg')\n",
    "\n",
    "# txt 파일에 write\n",
    "with open('train.txt', 'w') as f:\n",
    "    f.write('\\n'.join(train_img_list) + '\\n')\n",
    "\n",
    "with open('valid.txt', 'w') as f:\n",
    "    f.write('\\n'.join(valid_img_list) + '\\n')\n",
    "\n",
    "with open('test.txt', 'w') as f:\n",
    "    f.write('\\n'.join(train_img_list) + '\\n')\n",
    "    \n",
    "\n",
    "    \n",
    "!python yolov5/train.py --img 320 --batch 16 --epochs 2 --data '강아지이름'/data.yaml --weights yolov5x.pt --name result_E --cfg yolov5/models/yolov5x.yaml"
   ]
  }
 ],
 "metadata": {
  "kernelspec": {
   "display_name": "Python 3 (ipykernel)",
   "language": "python",
   "name": "python3"
  },
  "language_info": {
   "codemirror_mode": {
    "name": "ipython",
    "version": 3
   },
   "file_extension": ".py",
   "mimetype": "text/x-python",
   "name": "python",
   "nbconvert_exporter": "python",
   "pygments_lexer": "ipython3",
   "version": "3.9.12"
  }
 },
 "nbformat": 4,
 "nbformat_minor": 5
}
